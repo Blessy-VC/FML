{
  "nbformat": 4,
  "nbformat_minor": 0,
  "metadata": {
    "colab": {
      "provenance": [],
      "authorship_tag": "ABX9TyMlwaGR5CrXxp803Twqk23J",
      "include_colab_link": true
    },
    "kernelspec": {
      "name": "python3",
      "display_name": "Python 3"
    },
    "language_info": {
      "name": "python"
    }
  },
  "cells": [
    {
      "cell_type": "markdown",
      "metadata": {
        "id": "view-in-github",
        "colab_type": "text"
      },
      "source": [
        "<a href=\"https://colab.research.google.com/github/Blessy-VC/FML/blob/main/logistic_binary_class.ipynb\" target=\"_parent\"><img src=\"https://colab.research.google.com/assets/colab-badge.svg\" alt=\"Open In Colab\"/></a>"
      ]
    },
    {
      "cell_type": "code",
      "execution_count": 2,
      "metadata": {
        "id": "UXVO8OuP1whH"
      },
      "outputs": [],
      "source": [
        "import matplotlib.pyplot as plt\n",
        "import numpy as np\n",
        "import pandas as pd\n",
        "from sklearn.linear_model import LogisticRegression\n",
        "from sklearn.metrics import classification_report, confusion_matrix"
      ]
    },
    {
      "cell_type": "code",
      "source": [
        "data=pd.read_csv(\"diabetes.csv\")\n",
        "print(data)"
      ],
      "metadata": {
        "colab": {
          "base_uri": "https://localhost:8080/"
        },
        "id": "C8JL2EHR1-OS",
        "outputId": "4eba011b-4b26-48cc-f09f-d6210dec694f"
      },
      "execution_count": 4,
      "outputs": [
        {
          "output_type": "stream",
          "name": "stdout",
          "text": [
            "     pregnancies  glucose  diastolic  triceps  insulin   bmi    dpf  age  \\\n",
            "0              6      148         72       35        0  33.6  0.627   50   \n",
            "1              1       85         66       29        0  26.6  0.351   31   \n",
            "2              8      183         64        0        0  23.3  0.672   32   \n",
            "3              1       89         66       23       94  28.1  0.167   21   \n",
            "4              0      137         40       35      168  43.1  2.288   33   \n",
            "..           ...      ...        ...      ...      ...   ...    ...  ...   \n",
            "763           10      101         76       48      180  32.9  0.171   63   \n",
            "764            2      122         70       27        0  36.8  0.340   27   \n",
            "765            5      121         72       23      112  26.2  0.245   30   \n",
            "766            1      126         60        0        0  30.1  0.349   47   \n",
            "767            1       93         70       31        0  30.4  0.315   23   \n",
            "\n",
            "     diabetes  \n",
            "0           1  \n",
            "1           0  \n",
            "2           1  \n",
            "3           0  \n",
            "4           1  \n",
            "..        ...  \n",
            "763         0  \n",
            "764         0  \n",
            "765         0  \n",
            "766         1  \n",
            "767         0  \n",
            "\n",
            "[768 rows x 9 columns]\n"
          ]
        }
      ]
    },
    {
      "cell_type": "code",
      "source": [
        "x = data.drop('diabetes', axis=1).values\n",
        "y = data['diabetes'].values"
      ],
      "metadata": {
        "id": "9wiImTWN2Vae"
      },
      "execution_count": 8,
      "outputs": []
    },
    {
      "cell_type": "code",
      "source": [
        "x= data.iloc[:, [1,3]].values  \n",
        "y= data.iloc[:, -1].values  "
      ],
      "metadata": {
        "id": "z6HFcw285Ytu"
      },
      "execution_count": 145,
      "outputs": []
    },
    {
      "cell_type": "code",
      "source": [
        "from sklearn.model_selection import train_test_split  \n",
        "x_train, x_test, y_train, y_test= train_test_split(x, y, test_size= 0.25, random_state=0)  "
      ],
      "metadata": {
        "id": "UwCMKhPK8vY7"
      },
      "execution_count": 146,
      "outputs": []
    },
    {
      "cell_type": "code",
      "source": [
        "diab = LogisticRegression(C=0.5)\n",
        "diab.fit(x_train,y_train)"
      ],
      "metadata": {
        "colab": {
          "base_uri": "https://localhost:8080/",
          "height": 74
        },
        "id": "OYDEmmYI6rMo",
        "outputId": "93e66ba9-daa2-4a81-d995-7584a6dfa0b4"
      },
      "execution_count": 147,
      "outputs": [
        {
          "output_type": "execute_result",
          "data": {
            "text/plain": [
              "LogisticRegression(C=0.5)"
            ],
            "text/html": [
              "<style>#sk-container-id-11 {color: black;background-color: white;}#sk-container-id-11 pre{padding: 0;}#sk-container-id-11 div.sk-toggleable {background-color: white;}#sk-container-id-11 label.sk-toggleable__label {cursor: pointer;display: block;width: 100%;margin-bottom: 0;padding: 0.3em;box-sizing: border-box;text-align: center;}#sk-container-id-11 label.sk-toggleable__label-arrow:before {content: \"▸\";float: left;margin-right: 0.25em;color: #696969;}#sk-container-id-11 label.sk-toggleable__label-arrow:hover:before {color: black;}#sk-container-id-11 div.sk-estimator:hover label.sk-toggleable__label-arrow:before {color: black;}#sk-container-id-11 div.sk-toggleable__content {max-height: 0;max-width: 0;overflow: hidden;text-align: left;background-color: #f0f8ff;}#sk-container-id-11 div.sk-toggleable__content pre {margin: 0.2em;color: black;border-radius: 0.25em;background-color: #f0f8ff;}#sk-container-id-11 input.sk-toggleable__control:checked~div.sk-toggleable__content {max-height: 200px;max-width: 100%;overflow: auto;}#sk-container-id-11 input.sk-toggleable__control:checked~label.sk-toggleable__label-arrow:before {content: \"▾\";}#sk-container-id-11 div.sk-estimator input.sk-toggleable__control:checked~label.sk-toggleable__label {background-color: #d4ebff;}#sk-container-id-11 div.sk-label input.sk-toggleable__control:checked~label.sk-toggleable__label {background-color: #d4ebff;}#sk-container-id-11 input.sk-hidden--visually {border: 0;clip: rect(1px 1px 1px 1px);clip: rect(1px, 1px, 1px, 1px);height: 1px;margin: -1px;overflow: hidden;padding: 0;position: absolute;width: 1px;}#sk-container-id-11 div.sk-estimator {font-family: monospace;background-color: #f0f8ff;border: 1px dotted black;border-radius: 0.25em;box-sizing: border-box;margin-bottom: 0.5em;}#sk-container-id-11 div.sk-estimator:hover {background-color: #d4ebff;}#sk-container-id-11 div.sk-parallel-item::after {content: \"\";width: 100%;border-bottom: 1px solid gray;flex-grow: 1;}#sk-container-id-11 div.sk-label:hover label.sk-toggleable__label {background-color: #d4ebff;}#sk-container-id-11 div.sk-serial::before {content: \"\";position: absolute;border-left: 1px solid gray;box-sizing: border-box;top: 0;bottom: 0;left: 50%;z-index: 0;}#sk-container-id-11 div.sk-serial {display: flex;flex-direction: column;align-items: center;background-color: white;padding-right: 0.2em;padding-left: 0.2em;position: relative;}#sk-container-id-11 div.sk-item {position: relative;z-index: 1;}#sk-container-id-11 div.sk-parallel {display: flex;align-items: stretch;justify-content: center;background-color: white;position: relative;}#sk-container-id-11 div.sk-item::before, #sk-container-id-11 div.sk-parallel-item::before {content: \"\";position: absolute;border-left: 1px solid gray;box-sizing: border-box;top: 0;bottom: 0;left: 50%;z-index: -1;}#sk-container-id-11 div.sk-parallel-item {display: flex;flex-direction: column;z-index: 1;position: relative;background-color: white;}#sk-container-id-11 div.sk-parallel-item:first-child::after {align-self: flex-end;width: 50%;}#sk-container-id-11 div.sk-parallel-item:last-child::after {align-self: flex-start;width: 50%;}#sk-container-id-11 div.sk-parallel-item:only-child::after {width: 0;}#sk-container-id-11 div.sk-dashed-wrapped {border: 1px dashed gray;margin: 0 0.4em 0.5em 0.4em;box-sizing: border-box;padding-bottom: 0.4em;background-color: white;}#sk-container-id-11 div.sk-label label {font-family: monospace;font-weight: bold;display: inline-block;line-height: 1.2em;}#sk-container-id-11 div.sk-label-container {text-align: center;}#sk-container-id-11 div.sk-container {/* jupyter's `normalize.less` sets `[hidden] { display: none; }` but bootstrap.min.css set `[hidden] { display: none !important; }` so we also need the `!important` here to be able to override the default hidden behavior on the sphinx rendered scikit-learn.org. See: https://github.com/scikit-learn/scikit-learn/issues/21755 */display: inline-block !important;position: relative;}#sk-container-id-11 div.sk-text-repr-fallback {display: none;}</style><div id=\"sk-container-id-11\" class=\"sk-top-container\"><div class=\"sk-text-repr-fallback\"><pre>LogisticRegression(C=0.5)</pre><b>In a Jupyter environment, please rerun this cell to show the HTML representation or trust the notebook. <br />On GitHub, the HTML representation is unable to render, please try loading this page with nbviewer.org.</b></div><div class=\"sk-container\" hidden><div class=\"sk-item\"><div class=\"sk-estimator sk-toggleable\"><input class=\"sk-toggleable__control sk-hidden--visually\" id=\"sk-estimator-id-11\" type=\"checkbox\" checked><label for=\"sk-estimator-id-11\" class=\"sk-toggleable__label sk-toggleable__label-arrow\">LogisticRegression</label><div class=\"sk-toggleable__content\"><pre>LogisticRegression(C=0.5)</pre></div></div></div></div></div>"
            ]
          },
          "metadata": {},
          "execution_count": 147
        }
      ]
    },
    {
      "cell_type": "code",
      "source": [
        "x_train.shape,y_train.shape"
      ],
      "metadata": {
        "colab": {
          "base_uri": "https://localhost:8080/"
        },
        "id": "99vdb5hVAY5-",
        "outputId": "e6f75554-3443-46d5-b7e4-c85e0e67ed43"
      },
      "execution_count": 148,
      "outputs": [
        {
          "output_type": "execute_result",
          "data": {
            "text/plain": [
              "((576, 2), (576,))"
            ]
          },
          "metadata": {},
          "execution_count": 148
        }
      ]
    },
    {
      "cell_type": "code",
      "source": [
        "diab.classes_"
      ],
      "metadata": {
        "colab": {
          "base_uri": "https://localhost:8080/"
        },
        "id": "I5MtC8oX7LXr",
        "outputId": "7c2d7ac6-f16f-42f0-8238-c3b0762781ec"
      },
      "execution_count": 149,
      "outputs": [
        {
          "output_type": "execute_result",
          "data": {
            "text/plain": [
              "array([0, 1])"
            ]
          },
          "metadata": {},
          "execution_count": 149
        }
      ]
    },
    {
      "cell_type": "code",
      "source": [
        "diab.intercept_"
      ],
      "metadata": {
        "colab": {
          "base_uri": "https://localhost:8080/"
        },
        "id": "jCeQcC_a7PKQ",
        "outputId": "f147e160-20aa-4201-a1bb-8135566b601d"
      },
      "execution_count": 150,
      "outputs": [
        {
          "output_type": "execute_result",
          "data": {
            "text/plain": [
              "array([-5.47700167])"
            ]
          },
          "metadata": {},
          "execution_count": 150
        }
      ]
    },
    {
      "cell_type": "code",
      "source": [
        "\n",
        "diab.coef_"
      ],
      "metadata": {
        "colab": {
          "base_uri": "https://localhost:8080/"
        },
        "id": "jMzRFee87aJC",
        "outputId": "b73faa2e-5973-4917-a79f-3ed063132b5d"
      },
      "execution_count": 151,
      "outputs": [
        {
          "output_type": "execute_result",
          "data": {
            "text/plain": [
              "array([[0.03699862, 0.01297126]])"
            ]
          },
          "metadata": {},
          "execution_count": 151
        }
      ]
    },
    {
      "cell_type": "code",
      "source": [
        "diab.predict_proba(x_train)"
      ],
      "metadata": {
        "colab": {
          "base_uri": "https://localhost:8080/"
        },
        "id": "6bw-_zoA7oKi",
        "outputId": "2d31d243-146c-4a5b-ef8d-78524415f555"
      },
      "execution_count": 155,
      "outputs": [
        {
          "output_type": "execute_result",
          "data": {
            "text/plain": [
              "array([[0.89881484, 0.10118516],\n",
              "       [0.6557022 , 0.3442978 ],\n",
              "       [0.89188365, 0.10811635],\n",
              "       ...,\n",
              "       [0.84732387, 0.15267613],\n",
              "       [0.91150245, 0.08849755],\n",
              "       [0.60949501, 0.39050499]])"
            ]
          },
          "metadata": {},
          "execution_count": 155
        }
      ]
    },
    {
      "cell_type": "code",
      "source": [
        "y_pred = diab.predict(x_train)\n",
        "print(y_pred)"
      ],
      "metadata": {
        "colab": {
          "base_uri": "https://localhost:8080/"
        },
        "id": "1IqwaL-r7ryy",
        "outputId": "75f05354-ee8d-450d-c9ab-40f8705ef890"
      },
      "execution_count": 179,
      "outputs": [
        {
          "output_type": "stream",
          "name": "stdout",
          "text": [
            "[0 0 0 0 0 1 0 0 0 0 0 0 0 0 0 0 1 0 0 0 0 1 0 0 0 0 1 0 0 0 0 0 0 0 0 0 0\n",
            " 0 0 0 0 0 1 0 0 1 0 1 0 0 0 0 0 0 0 1 0 1 0 1 0 0 0 1 0 0 0 0 0 0 0 0 0 0\n",
            " 0 1 0 0 0 0 0 0 0 0 0 0 0 0 0 1 0 0 0 0 0 0 0 1 1 0 0 1 0 1 1 0 0 0 0 1 0\n",
            " 0 0 0 1 0 0 0 0 0 0 0 0 0 0 0 1 0 0 0 0 0 0 1 0 0 0 1 1 0 1 0 0 0 1 0 1 0\n",
            " 1 0 0 1 0 0 0 0 1 1 0 0 0 0 0 0 0 0 0 0 1 0 0 0 0 0 1 0 0 1 1 0 0 0 0 1 0\n",
            " 0 0 1 0 0 0 1 0 0 1 0 1 0 0 0 1 0 1 0 0 0 1 0 0 0 0 1 1 0 0 0 0 0 0 1 1 1\n",
            " 0 0 0 1 0 0 0 1 1 0 0 0 0 1 0 0 0 1 0 0 1 0 0 0 0 0 0 0 1 0 0 0 0 1 0 1 0\n",
            " 0 0 0 0 0 1 0 1 0 0 0 0 0 1 0 0 1 0 0 0 0 1 0 0 1 0 1 0 0 1 0 1 0 0 0 1 1\n",
            " 0 1 0 0 0 0 0 0 0 0 0 0 1 0 0 0 0 0 0 1 1 0 0 0 0 0 1 0 1 0 0 0 0 0 0 0 0\n",
            " 0 0 0 1 0 0 0 0 1 0 0 0 0 0 0 1 1 0 0 0 0 0 0 0 1 0 0 0 0 0 0 1 0 0 0 1 0\n",
            " 0 1 0 0 0 0 0 1 0 1 0 0 0 0 0 1 1 0 0 0 0 0 0 0 0 0 0 1 1 1 0 0 0 0 0 1 0\n",
            " 0 1 0 0 0 1 1 1 0 0 0 1 0 1 0 0 1 0 1 1 0 0 0 0 0 0 0 0 1 0 0 1 1 1 0 0 0\n",
            " 1 0 1 0 0 0 0 0 0 0 1 1 0 1 1 0 0 0 1 1 0 0 0 0 0 1 0 0 0 1 0 0 1 0 0 0 0\n",
            " 0 0 1 0 0 0 1 0 0 0 0 0 1 1 0 0 0 0 0 0 0 0 0 0 1 0 0 0 0 0 0 0 0 0 0 0 0\n",
            " 0 0 1 0 0 0 1 0 0 1 0 0 0 1 0 0 0 0 0 0 0 0 0 0 0 0 0 0 0 0 0 1 0 0 0 1 0\n",
            " 0 0 0 0 0 0 0 0 0 0 1 0 0 0 1 0 0 1 0 0 0]\n"
          ]
        }
      ]
    },
    {
      "cell_type": "code",
      "source": [
        "diab.score(x_train,y_train)"
      ],
      "metadata": {
        "colab": {
          "base_uri": "https://localhost:8080/"
        },
        "id": "xnqrHtES8D-n",
        "outputId": "4182edb0-19fe-4039-ec2f-214d7f513575"
      },
      "execution_count": 180,
      "outputs": [
        {
          "output_type": "execute_result",
          "data": {
            "text/plain": [
              "0.7361111111111112"
            ]
          },
          "metadata": {},
          "execution_count": 180
        }
      ]
    },
    {
      "cell_type": "code",
      "source": [
        "confusion_matrix(y_train,y_pred)"
      ],
      "metadata": {
        "colab": {
          "base_uri": "https://localhost:8080/"
        },
        "id": "2xPYrkpq8XsX",
        "outputId": "acae2ff7-ed7c-4abb-e604-e131197034d4"
      },
      "execution_count": 181,
      "outputs": [
        {
          "output_type": "execute_result",
          "data": {
            "text/plain": [
              "array([[333,  37],\n",
              "       [115,  91]])"
            ]
          },
          "metadata": {},
          "execution_count": 181
        }
      ]
    },
    {
      "cell_type": "code",
      "source": [
        "cm = confusion_matrix(y_train, y_pred)\n",
        "\n",
        "fig, ax = plt.subplots(figsize=(8, 8))\n",
        "ax.imshow(cm)\n",
        "ax.grid(False)\n",
        "ax.xaxis.set(ticks=(0, 1), ticklabels=('Predicted 0s', 'Predicted 1s'))\n",
        "ax.yaxis.set(ticks=(0, 1), ticklabels=('Actual 0s', 'Actual 1s'))\n",
        "ax.set_ylim(1.5, -0.5)\n",
        "for i in range(2):\n",
        "    for j in range(2):\n",
        "        ax.text(j, i, cm[i, j], ha='center', va='center', color='red')\n",
        "plt.show()"
      ],
      "metadata": {
        "colab": {
          "base_uri": "https://localhost:8080/",
          "height": 676
        },
        "id": "uKPisNp386q-",
        "outputId": "62315f22-d701-4b19-f682-4b7fb73e725e"
      },
      "execution_count": 182,
      "outputs": [
        {
          "output_type": "display_data",
          "data": {
            "text/plain": [
              "<Figure size 800x800 with 1 Axes>"
            ],
            "image/png": "[encoded data removed]"
          },
          "metadata": {}
        }
      ]
    },
    {
      "cell_type": "code",
      "source": [
        "print(classification_report(y_train, y_pred))"
      ],
      "metadata": {
        "colab": {
          "base_uri": "https://localhost:8080/"
        },
        "id": "bUlSm4D29DS9",
        "outputId": "f20cd6ad-b404-4d45-fc14-111740a0df54"
      },
      "execution_count": 183,
      "outputs": [
        {
          "output_type": "stream",
          "name": "stdout",
          "text": [
            "              precision    recall  f1-score   support\n",
            "\n",
            "           0       0.74      0.90      0.81       370\n",
            "           1       0.71      0.44      0.54       206\n",
            "\n",
            "    accuracy                           0.74       576\n",
            "   macro avg       0.73      0.67      0.68       576\n",
            "weighted avg       0.73      0.74      0.72       576\n",
            "\n"
          ]
        }
      ]
    },
    {
      "cell_type": "code",
      "source": [
        "diab = LogisticRegression(C=0.5)\n",
        "diab.fit(x_test,y_test)"
      ],
      "metadata": {
        "colab": {
          "base_uri": "https://localhost:8080/",
          "height": 74
        },
        "id": "O3mbcqo79KB9",
        "outputId": "311ca66d-3424-4eaa-bbaa-b4c518db3192"
      },
      "execution_count": 166,
      "outputs": [
        {
          "output_type": "execute_result",
          "data": {
            "text/plain": [
              "LogisticRegression(C=0.5)"
            ],
            "text/html": [
              "<style>#sk-container-id-12 {color: black;background-color: white;}#sk-container-id-12 pre{padding: 0;}#sk-container-id-12 div.sk-toggleable {background-color: white;}#sk-container-id-12 label.sk-toggleable__label {cursor: pointer;display: block;width: 100%;margin-bottom: 0;padding: 0.3em;box-sizing: border-box;text-align: center;}#sk-container-id-12 label.sk-toggleable__label-arrow:before {content: \"▸\";float: left;margin-right: 0.25em;color: #696969;}#sk-container-id-12 label.sk-toggleable__label-arrow:hover:before {color: black;}#sk-container-id-12 div.sk-estimator:hover label.sk-toggleable__label-arrow:before {color: black;}#sk-container-id-12 div.sk-toggleable__content {max-height: 0;max-width: 0;overflow: hidden;text-align: left;background-color: #f0f8ff;}#sk-container-id-12 div.sk-toggleable__content pre {margin: 0.2em;color: black;border-radius: 0.25em;background-color: #f0f8ff;}#sk-container-id-12 input.sk-toggleable__control:checked~div.sk-toggleable__content {max-height: 200px;max-width: 100%;overflow: auto;}#sk-container-id-12 input.sk-toggleable__control:checked~label.sk-toggleable__label-arrow:before {content: \"▾\";}#sk-container-id-12 div.sk-estimator input.sk-toggleable__control:checked~label.sk-toggleable__label {background-color: #d4ebff;}#sk-container-id-12 div.sk-label input.sk-toggleable__control:checked~label.sk-toggleable__label {background-color: #d4ebff;}#sk-container-id-12 input.sk-hidden--visually {border: 0;clip: rect(1px 1px 1px 1px);clip: rect(1px, 1px, 1px, 1px);height: 1px;margin: -1px;overflow: hidden;padding: 0;position: absolute;width: 1px;}#sk-container-id-12 div.sk-estimator {font-family: monospace;background-color: #f0f8ff;border: 1px dotted black;border-radius: 0.25em;box-sizing: border-box;margin-bottom: 0.5em;}#sk-container-id-12 div.sk-estimator:hover {background-color: #d4ebff;}#sk-container-id-12 div.sk-parallel-item::after {content: \"\";width: 100%;border-bottom: 1px solid gray;flex-grow: 1;}#sk-container-id-12 div.sk-label:hover label.sk-toggleable__label {background-color: #d4ebff;}#sk-container-id-12 div.sk-serial::before {content: \"\";position: absolute;border-left: 1px solid gray;box-sizing: border-box;top: 0;bottom: 0;left: 50%;z-index: 0;}#sk-container-id-12 div.sk-serial {display: flex;flex-direction: column;align-items: center;background-color: white;padding-right: 0.2em;padding-left: 0.2em;position: relative;}#sk-container-id-12 div.sk-item {position: relative;z-index: 1;}#sk-container-id-12 div.sk-parallel {display: flex;align-items: stretch;justify-content: center;background-color: white;position: relative;}#sk-container-id-12 div.sk-item::before, #sk-container-id-12 div.sk-parallel-item::before {content: \"\";position: absolute;border-left: 1px solid gray;box-sizing: border-box;top: 0;bottom: 0;left: 50%;z-index: -1;}#sk-container-id-12 div.sk-parallel-item {display: flex;flex-direction: column;z-index: 1;position: relative;background-color: white;}#sk-container-id-12 div.sk-parallel-item:first-child::after {align-self: flex-end;width: 50%;}#sk-container-id-12 div.sk-parallel-item:last-child::after {align-self: flex-start;width: 50%;}#sk-container-id-12 div.sk-parallel-item:only-child::after {width: 0;}#sk-container-id-12 div.sk-dashed-wrapped {border: 1px dashed gray;margin: 0 0.4em 0.5em 0.4em;box-sizing: border-box;padding-bottom: 0.4em;background-color: white;}#sk-container-id-12 div.sk-label label {font-family: monospace;font-weight: bold;display: inline-block;line-height: 1.2em;}#sk-container-id-12 div.sk-label-container {text-align: center;}#sk-container-id-12 div.sk-container {/* jupyter's `normalize.less` sets `[hidden] { display: none; }` but bootstrap.min.css set `[hidden] { display: none !important; }` so we also need the `!important` here to be able to override the default hidden behavior on the sphinx rendered scikit-learn.org. See: https://github.com/scikit-learn/scikit-learn/issues/21755 */display: inline-block !important;position: relative;}#sk-container-id-12 div.sk-text-repr-fallback {display: none;}</style><div id=\"sk-container-id-12\" class=\"sk-top-container\"><div class=\"sk-text-repr-fallback\"><pre>LogisticRegression(C=0.5)</pre><b>In a Jupyter environment, please rerun this cell to show the HTML representation or trust the notebook. <br />On GitHub, the HTML representation is unable to render, please try loading this page with nbviewer.org.</b></div><div class=\"sk-container\" hidden><div class=\"sk-item\"><div class=\"sk-estimator sk-toggleable\"><input class=\"sk-toggleable__control sk-hidden--visually\" id=\"sk-estimator-id-12\" type=\"checkbox\" checked><label for=\"sk-estimator-id-12\" class=\"sk-toggleable__label sk-toggleable__label-arrow\">LogisticRegression</label><div class=\"sk-toggleable__content\"><pre>LogisticRegression(C=0.5)</pre></div></div></div></div></div>"
            ]
          },
          "metadata": {},
          "execution_count": 166
        }
      ]
    },
    {
      "cell_type": "code",
      "source": [
        "diab.predict_proba(x_test)"
      ],
      "metadata": {
        "colab": {
          "base_uri": "https://localhost:8080/"
        },
        "id": "GcOgs9KtLM46",
        "outputId": "9a85d42b-3326-42d8-e6b9-9c859ea0dde0"
      },
      "execution_count": 184,
      "outputs": [
        {
          "output_type": "execute_result",
          "data": {
            "text/plain": [
              "array([[0.12681424, 0.87318576],\n",
              "       [0.83754768, 0.16245232],\n",
              "       [0.92334604, 0.07665396],\n",
              "       [0.28569868, 0.71430132],\n",
              "       [0.7431423 , 0.2568577 ],\n",
              "       [0.92647566, 0.07352434],\n",
              "       [0.46543695, 0.53456305],\n",
              "       [0.22911756, 0.77088244],\n",
              "       [0.67745489, 0.32254511],\n",
              "       [0.86185123, 0.13814877],\n",
              "       [0.41208805, 0.58791195],\n",
              "       [0.15955027, 0.84044973],\n",
              "       [0.71912143, 0.28087857],\n",
              "       [0.9274602 , 0.0725398 ],\n",
              "       [0.9628499 , 0.0371501 ],\n",
              "       [0.81170112, 0.18829888],\n",
              "       [0.24449363, 0.75550637],\n",
              "       [0.93986814, 0.06013186],\n",
              "       [0.65364613, 0.34635387],\n",
              "       [0.87418349, 0.12581651],\n",
              "       [0.53988981, 0.46011019],\n",
              "       [0.68505429, 0.31494571],\n",
              "       [0.9135977 , 0.0864023 ],\n",
              "       [0.97031736, 0.02968264],\n",
              "       [0.86297939, 0.13702061],\n",
              "       [0.72610485, 0.27389515],\n",
              "       [0.79374235, 0.20625765],\n",
              "       [0.46561593, 0.53438407],\n",
              "       [0.79013504, 0.20986496],\n",
              "       [0.75084383, 0.24915617],\n",
              "       [0.59940232, 0.40059768],\n",
              "       [0.88745845, 0.11254155],\n",
              "       [0.84079362, 0.15920638],\n",
              "       [0.77003652, 0.22996348],\n",
              "       [0.71423793, 0.28576207],\n",
              "       [0.22088316, 0.77911684],\n",
              "       [0.62887437, 0.37112563],\n",
              "       [0.74658959, 0.25341041],\n",
              "       [0.79996421, 0.20003579],\n",
              "       [0.19718871, 0.80281129],\n",
              "       [0.7281341 , 0.2718659 ],\n",
              "       [0.87193398, 0.12806602],\n",
              "       [0.85985067, 0.14014933],\n",
              "       [0.13577931, 0.86422069],\n",
              "       [0.13940123, 0.86059877],\n",
              "       [0.8515852 , 0.1484148 ],\n",
              "       [0.83575675, 0.16424325],\n",
              "       [0.67474266, 0.32525734],\n",
              "       [0.85222048, 0.14777952],\n",
              "       [0.62053751, 0.37946249],\n",
              "       [0.54135787, 0.45864213],\n",
              "       [0.82405203, 0.17594797],\n",
              "       [0.49630585, 0.50369415],\n",
              "       [0.63866673, 0.36133327],\n",
              "       [0.91050214, 0.08949786],\n",
              "       [0.99716358, 0.00283642],\n",
              "       [0.9257265 , 0.0742735 ],\n",
              "       [0.710817  , 0.289183  ],\n",
              "       [0.53122377, 0.46877623],\n",
              "       [0.710817  , 0.289183  ],\n",
              "       [0.35804186, 0.64195814],\n",
              "       [0.48522279, 0.51477721],\n",
              "       [0.62053751, 0.37946249],\n",
              "       [0.49051309, 0.50948691],\n",
              "       [0.13811179, 0.86188821],\n",
              "       [0.07999981, 0.92000019],\n",
              "       [0.2426382 , 0.7573618 ],\n",
              "       [0.64887272, 0.35112728],\n",
              "       [0.78007917, 0.21992083],\n",
              "       [0.95245252, 0.04754748],\n",
              "       [0.76577798, 0.23422202],\n",
              "       [0.67619616, 0.32380384],\n",
              "       [0.92577595, 0.07422405],\n",
              "       [0.13333189, 0.86666811],\n",
              "       [0.20056215, 0.79943785],\n",
              "       [0.50070008, 0.49929992],\n",
              "       [0.95822055, 0.04177945],\n",
              "       [0.43840792, 0.56159208],\n",
              "       [0.92173016, 0.07826984],\n",
              "       [0.89897235, 0.10102765],\n",
              "       [0.81915645, 0.18084355],\n",
              "       [0.67584677, 0.32415323],\n",
              "       [0.81817212, 0.18182788],\n",
              "       [0.86938764, 0.13061236],\n",
              "       [0.89629986, 0.10370014],\n",
              "       [0.86255354, 0.13744646],\n",
              "       [0.48033398, 0.51966602],\n",
              "       [0.87143371, 0.12856629],\n",
              "       [0.18242451, 0.81757549],\n",
              "       [0.89363343, 0.10636657],\n",
              "       [0.73696336, 0.26303664],\n",
              "       [0.58147231, 0.41852769],\n",
              "       [0.75382169, 0.24617831],\n",
              "       [0.82352994, 0.17647006],\n",
              "       [0.37681536, 0.62318464],\n",
              "       [0.81621446, 0.18378554],\n",
              "       [0.88847587, 0.11152413],\n",
              "       [0.48266862, 0.51733138],\n",
              "       [0.84710726, 0.15289274],\n",
              "       [0.710817  , 0.289183  ],\n",
              "       [0.80378517, 0.19621483],\n",
              "       [0.8530536 , 0.1469464 ],\n",
              "       [0.75084383, 0.24915617],\n",
              "       [0.86922419, 0.13077581],\n",
              "       [0.72115107, 0.27884893],\n",
              "       [0.76577798, 0.23422202],\n",
              "       [0.6951535 , 0.3048465 ],\n",
              "       [0.62904224, 0.37095776],\n",
              "       [0.84598592, 0.15401408],\n",
              "       [0.13333189, 0.86666811],\n",
              "       [0.91365446, 0.08634554],\n",
              "       [0.8121405 , 0.1878595 ],\n",
              "       [0.43986384, 0.56013616],\n",
              "       [0.71836271, 0.28163729],\n",
              "       [0.26735195, 0.73264805],\n",
              "       [0.27383338, 0.72616662],\n",
              "       [0.78965751, 0.21034249],\n",
              "       [0.1132308 , 0.8867692 ],\n",
              "       [0.79001573, 0.20998427],\n",
              "       [0.76978166, 0.23021834],\n",
              "       [0.82843421, 0.17156579],\n",
              "       [0.86987695, 0.13012305],\n",
              "       [0.80822058, 0.19177942],\n",
              "       [0.70885867, 0.29114133],\n",
              "       [0.51559797, 0.48440203],\n",
              "       [0.87193398, 0.12806602],\n",
              "       [0.63700506, 0.36299494],\n",
              "       [0.77893954, 0.22106046],\n",
              "       [0.52106386, 0.47893614],\n",
              "       [0.17569448, 0.82430552],\n",
              "       [0.59992038, 0.40007962],\n",
              "       [0.78699065, 0.21300935],\n",
              "       [0.93015463, 0.06984537],\n",
              "       [0.32165775, 0.67834225],\n",
              "       [0.89097668, 0.10902332],\n",
              "       [0.87442065, 0.12557935],\n",
              "       [0.81578244, 0.18421756],\n",
              "       [0.86185123, 0.13814877],\n",
              "       [0.46003303, 0.53996697],\n",
              "       [0.66720992, 0.33279008],\n",
              "       [0.90564716, 0.09435284],\n",
              "       [0.42822476, 0.57177524],\n",
              "       [0.78699065, 0.21300935],\n",
              "       [0.95517968, 0.04482032],\n",
              "       [0.71912143, 0.28087857],\n",
              "       [0.84417612, 0.15582388],\n",
              "       [0.90804341, 0.09195659],\n",
              "       [0.93936952, 0.06063048],\n",
              "       [0.8724952 , 0.1275048 ],\n",
              "       [0.87313402, 0.12686598],\n",
              "       [0.91879283, 0.08120717],\n",
              "       [0.44992786, 0.55007214],\n",
              "       [0.74382824, 0.25617176],\n",
              "       [0.83754768, 0.16245232],\n",
              "       [0.46851975, 0.53148025],\n",
              "       [0.87553941, 0.12446059],\n",
              "       [0.33579734, 0.66420266],\n",
              "       [0.80755071, 0.19244929],\n",
              "       [0.66720992, 0.33279008],\n",
              "       [0.52106386, 0.47893614],\n",
              "       [0.34134438, 0.65865562],\n",
              "       [0.08947255, 0.91052745],\n",
              "       [0.94985051, 0.05014949],\n",
              "       [0.70327012, 0.29672988],\n",
              "       [0.15331882, 0.84668118],\n",
              "       [0.67619616, 0.32380384],\n",
              "       [0.92334604, 0.07665396],\n",
              "       [0.7431423 , 0.2568577 ],\n",
              "       [0.62053751, 0.37946249],\n",
              "       [0.78699065, 0.21300935],\n",
              "       [0.90217031, 0.09782969],\n",
              "       [0.95783825, 0.04216175],\n",
              "       [0.77300812, 0.22699188],\n",
              "       [0.80676694, 0.19323306],\n",
              "       [0.50159924, 0.49840076],\n",
              "       [0.91050214, 0.08949786],\n",
              "       [0.8474068 , 0.1525932 ],\n",
              "       [0.95323525, 0.04676475],\n",
              "       [0.79892622, 0.20107378],\n",
              "       [0.90107174, 0.09892826],\n",
              "       [0.80676694, 0.19323306],\n",
              "       [0.29880347, 0.70119653],\n",
              "       [0.93024804, 0.06975196],\n",
              "       [0.22962616, 0.77037384],\n",
              "       [0.51088648, 0.48911352],\n",
              "       [0.97796373, 0.02203627],\n",
              "       [0.5615156 , 0.4384844 ],\n",
              "       [0.63008531, 0.36991469],\n",
              "       [0.54332185, 0.45667815],\n",
              "       [0.77807127, 0.22192873],\n",
              "       [0.59135575, 0.40864425],\n",
              "       [0.91791814, 0.08208186]])"
            ]
          },
          "metadata": {},
          "execution_count": 184
        }
      ]
    },
    {
      "cell_type": "code",
      "source": [
        "diab.score(x_test,y_test)"
      ],
      "metadata": {
        "colab": {
          "base_uri": "https://localhost:8080/"
        },
        "id": "JD1KaXAfLSji",
        "outputId": "d3e95255-ec3d-4f66-cbe1-04f078b284f7"
      },
      "execution_count": 185,
      "outputs": [
        {
          "output_type": "execute_result",
          "data": {
            "text/plain": [
              "0.7760416666666666"
            ]
          },
          "metadata": {},
          "execution_count": 185
        }
      ]
    },
    {
      "cell_type": "code",
      "source": [
        "y_pred = diab.predict(x_test)\n",
        "print(y_pred)"
      ],
      "metadata": {
        "colab": {
          "base_uri": "https://localhost:8080/"
        },
        "id": "YGO0zC1rL-mM",
        "outputId": "93989b70-95ab-45f1-8edd-c7eecb64fade"
      },
      "execution_count": 186,
      "outputs": [
        {
          "output_type": "stream",
          "name": "stdout",
          "text": [
            "[1 0 0 1 0 0 1 1 0 0 1 1 0 0 0 0 1 0 0 0 0 0 0 0 0 0 0 1 0 0 0 0 0 0 0 1 0\n",
            " 0 0 1 0 0 0 1 1 0 0 0 0 0 0 0 1 0 0 0 0 0 0 0 1 1 0 1 1 1 1 0 0 0 0 0 0 1\n",
            " 1 0 0 1 0 0 0 0 0 0 0 0 1 0 1 0 0 0 0 0 1 0 0 1 0 0 0 0 0 0 0 0 0 0 0 1 0\n",
            " 0 1 0 1 1 0 1 0 0 0 0 0 0 0 0 0 0 0 1 0 0 0 1 0 0 0 0 1 0 0 1 0 0 0 0 0 0\n",
            " 0 0 0 1 0 0 1 0 1 0 0 0 1 1 0 0 1 0 0 0 0 0 0 0 0 0 0 0 0 0 0 0 0 1 0 1 0\n",
            " 0 0 0 0 0 0 0]\n"
          ]
        }
      ]
    },
    {
      "cell_type": "code",
      "source": [
        "confusion_matrix(y_test,y_pred)"
      ],
      "metadata": {
        "colab": {
          "base_uri": "https://localhost:8080/"
        },
        "id": "7sidW_vHLeW7",
        "outputId": "56f81050-659b-47cd-b57b-3461a633b68f"
      },
      "execution_count": 187,
      "outputs": [
        {
          "output_type": "execute_result",
          "data": {
            "text/plain": [
              "array([[118,  12],\n",
              "       [ 31,  31]])"
            ]
          },
          "metadata": {},
          "execution_count": 187
        }
      ]
    },
    {
      "cell_type": "code",
      "source": [
        "cm = confusion_matrix(y_test, y_pred)\n",
        "\n",
        "fig, ax = plt.subplots(figsize=(8, 8))\n",
        "ax.imshow(cm)\n",
        "ax.grid(False)\n",
        "ax.xaxis.set(ticks=(0, 1), ticklabels=('Predicted 0s', 'Predicted 1s'))\n",
        "ax.yaxis.set(ticks=(0, 1), ticklabels=('Actual 0s', 'Actual 1s'))\n",
        "ax.set_ylim(1.5, -0.5)\n",
        "for i in range(2):\n",
        "    for j in range(2):\n",
        "        ax.text(j, i, cm[i, j], ha='center', va='center', color='red')\n",
        "plt.show()"
      ],
      "metadata": {
        "colab": {
          "base_uri": "https://localhost:8080/",
          "height": 676
        },
        "id": "KiVUuAiULj9L",
        "outputId": "5ce7238a-d1c8-441c-b4d8-4991fa900c67"
      },
      "execution_count": 188,
      "outputs": [
        {
          "output_type": "display_data",
          "data": {
            "text/plain": [
              "<Figure size 800x800 with 1 Axes>"
            ],
            "image/png": "[encoded data removed]"
          },
          "metadata": {}
        }
      ]
    },
    {
      "cell_type": "code",
      "source": [
        "print(classification_report(y_test, y_pred))"
      ],
      "metadata": {
        "colab": {
          "base_uri": "https://localhost:8080/"
        },
        "id": "LZ6KBxb3M8gH",
        "outputId": "506ef43a-cc1d-428d-9d7f-d23e4c41a960"
      },
      "execution_count": 190,
      "outputs": [
        {
          "output_type": "stream",
          "name": "stdout",
          "text": [
            "              precision    recall  f1-score   support\n",
            "\n",
            "           0       0.79      0.91      0.85       130\n",
            "           1       0.72      0.50      0.59        62\n",
            "\n",
            "    accuracy                           0.78       192\n",
            "   macro avg       0.76      0.70      0.72       192\n",
            "weighted avg       0.77      0.78      0.76       192\n",
            "\n"
          ]
        }
      ]
    },
    {
      "cell_type": "code",
      "source": [],
      "metadata": {
        "id": "sMyWm8T3MMfk"
      },
      "execution_count": null,
      "outputs": []
    }
  ]
}